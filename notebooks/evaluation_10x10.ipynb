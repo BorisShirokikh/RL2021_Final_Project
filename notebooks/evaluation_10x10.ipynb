{
 "cells": [
  {
   "cell_type": "code",
   "execution_count": 1,
   "metadata": {},
   "outputs": [
    {
     "name": "stdout",
     "output_type": "stream",
     "text": [
      "pygame 2.0.2 (SDL 2.0.16, Python 3.8.5)\n",
      "Hello from the pygame community. https://www.pygame.org/contribute.html\n"
     ]
    }
   ],
   "source": [
    "import os\n",
    "from pathlib import Path\n",
    "\n",
    "import numpy as np\n",
    "from tqdm.notebook import trange\n",
    "import torch\n",
    "import torch.nn as nn\n",
    "import matplotlib.pyplot as plt\n",
    "from mpl_toolkits.axes_grid1 import make_axes_locatable\n",
    "%matplotlib inline\n",
    "from dpipe.io import load, choose_existing\n",
    "from dpipe.torch import load_model_state\n",
    "\n",
    "from ttt_lib.policy_player import PolicyPlayer\n",
    "from ttt_lib.self_games import play_self_game, play_duel\n",
    "from ttt_lib.torch.module.policy_net import PolicyNetworkRandom, PolicyNetworkQ10Light, PolicyNetworkQ10\n",
    "from ttt_lib.field import Field\n",
    "from ttt_lib.utils import choose_model\n",
    "from ttt_lib.monte_carlo_tree_search import run_search, mcts_action"
   ]
  },
  {
   "cell_type": "code",
   "execution_count": 2,
   "metadata": {},
   "outputs": [
    {
     "data": {
      "text/plain": [
       "['TB8_continue_eps04',\n",
       " 'q8_test',\n",
       " 'TB8_continue_eps04_random_start',\n",
       " 'tb8_45_tb8_32_tb8_50_eps05',\n",
       " 'tb8_45_tb8_32_tb8_50_eps04',\n",
       " 'q4_test',\n",
       " 'tb8_load45_load32',\n",
       " 'ql8_load45_load32',\n",
       " 'q2_test',\n",
       " 'q8_load45']"
      ]
     },
     "execution_count": 2,
     "metadata": {},
     "output_type": "execute_result"
    }
   ],
   "source": [
    "Q_EXP_PATH = choose_existing(\n",
    "    Path('/nmnt/x4-hdd/experiments/rl/q_10x10'),\n",
    ")\n",
    "\n",
    "os.listdir(Q_EXP_PATH)"
   ]
  },
  {
   "cell_type": "code",
   "execution_count": 3,
   "metadata": {},
   "outputs": [],
   "source": [
    "exp_path = Q_EXP_PATH / 'tb8_45_tb8_32_tb8_50_eps05'"
   ]
  },
  {
   "cell_type": "code",
   "execution_count": 4,
   "metadata": {},
   "outputs": [],
   "source": [
    "device = 'cpu'\n",
    "n = 10\n",
    "kernel_len = 5\n",
    "cnn_features = (128, 64)\n",
    "\n",
    "field = Field(n=n, kernel_len=kernel_len, device=device, check_device=device)\n",
    "model = PolicyNetworkQ10Light(n=n, structure=cnn_features)\n",
    "# model = PolicyNetworkQ10(n=n, structure=cnn_features)\n",
    "load_model_state(model, exp_path / choose_model(exp_path))\n",
    "\n",
    "eps = 0\n",
    "player = PolicyPlayer(model=model, field=field, eps=eps, device=device)\n",
    "player.eval()"
   ]
  },
  {
   "cell_type": "markdown",
   "metadata": {},
   "source": [
    "# Duels"
   ]
  },
  {
   "cell_type": "code",
   "execution_count": 5,
   "metadata": {},
   "outputs": [],
   "source": [
    "field_duel = Field(n=n, kernel_len=kernel_len, device=device, check_device=device)\n",
    "\n",
    "eps = 0.2"
   ]
  },
  {
   "cell_type": "code",
   "execution_count": 6,
   "metadata": {},
   "outputs": [],
   "source": [
    "model_random = PolicyNetworkRandom(n=n)\n",
    "player_random = PolicyPlayer(model=model_random, field=field_duel, eps=1., device=device)"
   ]
  },
  {
   "cell_type": "markdown",
   "metadata": {},
   "source": [
    "## TB8 (127ep) vs TB8 (227ep)"
   ]
  },
  {
   "cell_type": "code",
   "execution_count": 7,
   "metadata": {},
   "outputs": [],
   "source": [
    "player_model_tb8_127 = PolicyPlayer(model=PolicyNetworkQ10Light(n=n, structure=cnn_features),\n",
    "                                   field=field_duel, eps=eps, device=device)\n",
    "path = Path('/nmnt/x4-hdd/experiments/rl/q_10x10/tb8_load45_load32/')\n",
    "load_model_state(player_model_tb8_127.model, path / choose_model(path))\n",
    "\n",
    "\n",
    "player_model_tb8_227 = PolicyPlayer(model=PolicyNetworkQ10Light(n=n, structure=cnn_features),\n",
    "                                    field=field_duel, eps=eps, device=device)\n",
    "path = Path('/nmnt/x4-hdd/experiments/rl/q_10x10/tb8_45_tb8_32_tb8_50_eps05/')\n",
    "load_model_state(player_model_tb8_227.model, path / choose_model(path))"
   ]
  },
  {
   "cell_type": "code",
   "execution_count": 8,
   "metadata": {},
   "outputs": [
    {
     "data": {
      "application/vnd.jupyter.widget-view+json": {
       "model_id": "",
       "version_major": 2,
       "version_minor": 0
      },
      "text/plain": [
       "HBox(children=(HTML(value=''), FloatProgress(value=0.0, max=1000.0), HTML(value='')))"
      ]
     },
     "metadata": {},
     "output_type": "display_data"
    },
    {
     "name": "stderr",
     "output_type": "stream",
     "text": [
      "/nmnt/media/home/boris/workspace/RL2021_Final_Project/ttt_lib/policy_player.py:33: UserWarning: This overload of nonzero is deprecated:\n",
      "\tnonzero()\n",
      "Consider using one of the following signatures instead:\n",
      "\tnonzero(*, bool as_tuple) (Triggered internally at  /pytorch/torch/csrc/utils/python_arg_parser.cpp:882.)\n",
      "  argmax_avail_action_idx = random.choice(torch.where(avail_p == avail_p.max(), 1., 0.).nonzero()).item()\n"
     ]
    },
    {
     "name": "stdout",
     "output_type": "stream",
     "text": [
      "\n"
     ]
    }
   ],
   "source": [
    "res_1, res_2 = [], []\n",
    "p1, p2 = player_model_tb8_127, player_model_tb8_227\n",
    "\n",
    "\n",
    "for _ in trange(1000):\n",
    "    sh, fh, ah, qh, ph, eh, w = play_duel(p1, p2, return_result_only=False)\n",
    "    res_1.append(w)\n",
    "    \n",
    "    sh, fh, ah, qh, ph, eh, w = play_duel(p2, p1, return_result_only=False)\n",
    "    res_2.append(w)"
   ]
  },
  {
   "cell_type": "code",
   "execution_count": 9,
   "metadata": {},
   "outputs": [
    {
     "name": "stdout",
     "output_type": "stream",
     "text": [
      "0.313\n",
      "0.0\n",
      "0.687\n"
     ]
    }
   ],
   "source": [
    "print(np.mean(np.array(res_1) == 1))\n",
    "print(np.mean(np.array(res_1) == 0))\n",
    "print(np.mean(np.array(res_1) == -1))"
   ]
  },
  {
   "cell_type": "code",
   "execution_count": 10,
   "metadata": {},
   "outputs": [
    {
     "name": "stdout",
     "output_type": "stream",
     "text": [
      "0.691\n",
      "0.0\n",
      "0.309\n"
     ]
    }
   ],
   "source": [
    "print(np.mean(np.array(res_2) == 1))\n",
    "print(np.mean(np.array(res_2) == 0))\n",
    "print(np.mean(np.array(res_2) == -1))"
   ]
  },
  {
   "cell_type": "markdown",
   "metadata": {},
   "source": [
    "## TB8 (227ep) eps=0.4 vs TB8 (227ep) eps=0.5"
   ]
  },
  {
   "cell_type": "code",
   "execution_count": 11,
   "metadata": {},
   "outputs": [],
   "source": [
    "player_model_tb8_227_04 = PolicyPlayer(model=PolicyNetworkQ10Light(n=n, structure=cnn_features),\n",
    "                                       field=field_duel, eps=eps, device=device)\n",
    "path = Path('/nmnt/x4-hdd/experiments/rl/q_10x10/tb8_45_tb8_32_tb8_50_eps04/')\n",
    "load_model_state(player_model_tb8_227_04.model, path / choose_model(path))\n",
    "\n",
    "\n",
    "player_model_tb8_227_05 = PolicyPlayer(model=PolicyNetworkQ10Light(n=n, structure=cnn_features),\n",
    "                                       field=field_duel, eps=eps, device=device)\n",
    "path = Path('/nmnt/x4-hdd/experiments/rl/q_10x10/tb8_45_tb8_32_tb8_50_eps05/')\n",
    "load_model_state(player_model_tb8_227_05.model, path / choose_model(path))"
   ]
  },
  {
   "cell_type": "code",
   "execution_count": 12,
   "metadata": {},
   "outputs": [
    {
     "data": {
      "application/vnd.jupyter.widget-view+json": {
       "model_id": "a73728d6a2cb4bbd80bb18d123177da4",
       "version_major": 2,
       "version_minor": 0
      },
      "text/plain": [
       "HBox(children=(HTML(value=''), FloatProgress(value=0.0, max=1000.0), HTML(value='')))"
      ]
     },
     "metadata": {},
     "output_type": "display_data"
    },
    {
     "name": "stdout",
     "output_type": "stream",
     "text": [
      "\n"
     ]
    }
   ],
   "source": [
    "res_1, res_2 = [], []\n",
    "p1, p2 = player_model_tb8_227_04, player_model_tb8_227_05\n",
    "\n",
    "\n",
    "for _ in trange(1000):\n",
    "    sh, fh, ah, qh, ph, eh, w = play_duel(p1, p2, return_result_only=False)\n",
    "    res_1.append(w)\n",
    "    \n",
    "    sh, fh, ah, qh, ph, eh, w = play_duel(p2, p1, return_result_only=False)\n",
    "    res_2.append(w)"
   ]
  },
  {
   "cell_type": "code",
   "execution_count": 13,
   "metadata": {},
   "outputs": [
    {
     "name": "stdout",
     "output_type": "stream",
     "text": [
      "0.681\n",
      "0.0\n",
      "0.319\n"
     ]
    }
   ],
   "source": [
    "print(np.mean(np.array(res_1) == 1))\n",
    "print(np.mean(np.array(res_1) == 0))\n",
    "print(np.mean(np.array(res_1) == -1))"
   ]
  },
  {
   "cell_type": "code",
   "execution_count": 14,
   "metadata": {},
   "outputs": [
    {
     "name": "stdout",
     "output_type": "stream",
     "text": [
      "0.629\n",
      "0.0\n",
      "0.371\n"
     ]
    }
   ],
   "source": [
    "print(np.mean(np.array(res_2) == 1))\n",
    "print(np.mean(np.array(res_2) == 0))\n",
    "print(np.mean(np.array(res_2) == -1))"
   ]
  },
  {
   "cell_type": "markdown",
   "metadata": {},
   "source": [
    "## MCTS TB8 (10 sec) vs TB8"
   ]
  },
  {
   "cell_type": "code",
   "execution_count": 8,
   "metadata": {},
   "outputs": [],
   "source": [
    "player_model_tb8_1 = PolicyPlayer(model=PolicyNetworkQ10Light(n=n, structure=cnn_features),\n",
    "                                field=field_duel, eps=0, device=device)\n",
    "path = Path('/nmnt/x4-hdd/experiments/rl/q_10x10/tb8_45_tb8_32_tb8_50_eps05/')\n",
    "load_model_state(player_model_tb8_1.model, path / choose_model(path))\n",
    "\n",
    "\n",
    "player_model_tb8_2 = PolicyPlayer(model=PolicyNetworkQ10Light(n=n, structure=cnn_features),\n",
    "                                  field=field_duel, eps=0, device=device)\n",
    "path = Path('/nmnt/x4-hdd/experiments/rl/q_10x10/tb8_45_tb8_32_tb8_50_eps05/')\n",
    "load_model_state(player_model_tb8_2.model, path / choose_model(path))"
   ]
  },
  {
   "cell_type": "code",
   "execution_count": 8,
   "metadata": {},
   "outputs": [
    {
     "name": "stderr",
     "output_type": "stream",
     "text": [
      "/nmnt/media/home/boris/workspace/RL2021_Final_Project/ttt_lib/policy_player.py:33: UserWarning: This overload of nonzero is deprecated:\n",
      "\tnonzero()\n",
      "Consider using one of the following signatures instead:\n",
      "\tnonzero(*, bool as_tuple) (Triggered internally at  /pytorch/torch/csrc/utils/python_arg_parser.cpp:882.)\n",
      "  argmax_avail_action_idx = random.choice(torch.where(avail_p == avail_p.max(), 1., 0.).nonzero()).item()\n"
     ]
    }
   ],
   "source": [
    "wx = play_duel(player_model_tb8_1, player_model_tb8_2, return_result_only=True,\n",
    "               mcts_x=True, search_time_x=10)\n",
    "wo = play_duel(player_model_tb8_1, player_model_tb8_2, return_result_only=True,\n",
    "               mcts_o=True, search_time_o=10)"
   ]
  },
  {
   "cell_type": "code",
   "execution_count": 9,
   "metadata": {},
   "outputs": [
    {
     "name": "stdout",
     "output_type": "stream",
     "text": [
      "1 -1\n"
     ]
    }
   ],
   "source": [
    "print(wx, wo)"
   ]
  },
  {
   "cell_type": "markdown",
   "metadata": {},
   "source": [
    "## MCTS TB8 (20 sec) vs MCTS TB8 (10 sec)"
   ]
  },
  {
   "cell_type": "code",
   "execution_count": 10,
   "metadata": {},
   "outputs": [],
   "source": [
    "wx = play_duel(player_model_tb8_1, player_model_tb8_2, return_result_only=True,\n",
    "               mcts_x=True, mcts_o=True, search_time_x=20, search_time_o=10)\n",
    "wo = play_duel(player_model_tb8_1, player_model_tb8_2, return_result_only=True,\n",
    "               mcts_x=True, mcts_o=True, search_time_x=10, search_time_o=20)"
   ]
  },
  {
   "cell_type": "code",
   "execution_count": 11,
   "metadata": {},
   "outputs": [
    {
     "name": "stdout",
     "output_type": "stream",
     "text": [
      "1 1\n"
     ]
    }
   ],
   "source": [
    "print(wx, wo)"
   ]
  },
  {
   "cell_type": "markdown",
   "metadata": {},
   "source": [
    "## MCTS TB8 (30 sec) vs MCTS TB8 (10 sec)"
   ]
  },
  {
   "cell_type": "code",
   "execution_count": 9,
   "metadata": {},
   "outputs": [
    {
     "name": "stderr",
     "output_type": "stream",
     "text": [
      "/nmnt/media/home/boris/workspace/RL2021_Final_Project/ttt_lib/field.py:156: UserWarning: This overload of nonzero is deprecated:\n",
      "\tnonzero()\n",
      "Consider using one of the following signatures instead:\n",
      "\tnonzero(*, bool as_tuple) (Triggered internally at  /pytorch/torch/csrc/utils/python_arg_parser.cpp:882.)\n",
      "  center = to_np(by_diag1.nonzero()[0][2:])\n"
     ]
    }
   ],
   "source": [
    "wo = play_duel(player_model_tb8_1, player_model_tb8_2, return_result_only=True,\n",
    "               mcts_x=True, mcts_o=True, search_time_x=10, search_time_o=30)"
   ]
  },
  {
   "cell_type": "code",
   "execution_count": 10,
   "metadata": {},
   "outputs": [
    {
     "name": "stdout",
     "output_type": "stream",
     "text": [
      "1\n"
     ]
    }
   ],
   "source": [
    "print(wo)"
   ]
  },
  {
   "cell_type": "markdown",
   "metadata": {},
   "source": [
    "## TB8 (200+ ep) eps=0.4 vs TB8 (200+ ep) eps=0.4 + random starts"
   ]
  },
  {
   "cell_type": "code",
   "execution_count": 21,
   "metadata": {},
   "outputs": [],
   "source": [
    "player_model_tb8 = PolicyPlayer(model=PolicyNetworkQ10Light(n=n, structure=cnn_features),\n",
    "                                field=field_duel, eps=eps, device=device)\n",
    "path = Path('/nmnt/x4-hdd/experiments/rl/q_10x10/TB8_continue_eps04/')\n",
    "load_model_state(player_model_tb8.model, path / choose_model(path))\n",
    "\n",
    "\n",
    "player_model_tb8_rs = PolicyPlayer(model=PolicyNetworkQ10Light(n=n, structure=cnn_features),\n",
    "                                   field=field_duel, eps=eps, device=device)\n",
    "path = Path('/nmnt/x4-hdd/experiments/rl/q_10x10/TB8_continue_eps04_random_start/')\n",
    "load_model_state(player_model_tb8_rs.model, path / choose_model(path))"
   ]
  },
  {
   "cell_type": "code",
   "execution_count": 22,
   "metadata": {},
   "outputs": [
    {
     "data": {
      "application/vnd.jupyter.widget-view+json": {
       "model_id": "bd8341e91d9948188e62aacfe069de3e",
       "version_major": 2,
       "version_minor": 0
      },
      "text/plain": [
       "HBox(children=(HTML(value=''), FloatProgress(value=0.0, max=1000.0), HTML(value='')))"
      ]
     },
     "metadata": {},
     "output_type": "display_data"
    },
    {
     "name": "stdout",
     "output_type": "stream",
     "text": [
      "\n"
     ]
    }
   ],
   "source": [
    "res_1, res_2 = [], []\n",
    "p1, p2 = player_model_tb8, player_model_tb8_rs\n",
    "\n",
    "\n",
    "for _ in trange(1000):\n",
    "    res_1.append(play_duel(p1, p2, return_result_only=True))\n",
    "    res_2.append(play_duel(p2, p1, return_result_only=True))"
   ]
  },
  {
   "cell_type": "code",
   "execution_count": 23,
   "metadata": {},
   "outputs": [
    {
     "name": "stdout",
     "output_type": "stream",
     "text": [
      "0.675\n",
      "0.0\n",
      "0.325\n"
     ]
    }
   ],
   "source": [
    "print(np.mean(np.array(res_1) == 1))\n",
    "print(np.mean(np.array(res_1) == 0))\n",
    "print(np.mean(np.array(res_1) == -1))"
   ]
  },
  {
   "cell_type": "code",
   "execution_count": 24,
   "metadata": {},
   "outputs": [
    {
     "name": "stdout",
     "output_type": "stream",
     "text": [
      "0.588\n",
      "0.0\n",
      "0.412\n"
     ]
    }
   ],
   "source": [
    "print(np.mean(np.array(res_2) == 1))\n",
    "print(np.mean(np.array(res_2) == 0))\n",
    "print(np.mean(np.array(res_2) == -1))"
   ]
  },
  {
   "cell_type": "code",
   "execution_count": null,
   "metadata": {},
   "outputs": [],
   "source": []
  }
 ],
 "metadata": {
  "kernelspec": {
   "display_name": "Python 3",
   "language": "python",
   "name": "python3"
  },
  "language_info": {
   "codemirror_mode": {
    "name": "ipython",
    "version": 3
   },
   "file_extension": ".py",
   "mimetype": "text/x-python",
   "name": "python",
   "nbconvert_exporter": "python",
   "pygments_lexer": "ipython3",
   "version": "3.8.5"
  },
  "pycharm": {
   "stem_cell": {
    "cell_type": "raw",
    "metadata": {
     "collapsed": false
    },
    "source": []
   }
  }
 },
 "nbformat": 4,
 "nbformat_minor": 2
}
